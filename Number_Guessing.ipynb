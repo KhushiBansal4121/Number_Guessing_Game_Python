{
  "nbformat": 4,
  "nbformat_minor": 0,
  "metadata": {
    "colab": {
      "name": "Number Guessing",
      "provenance": [],
      "collapsed_sections": []
    },
    "kernelspec": {
      "name": "python3",
      "display_name": "Python 3"
    },
    "language_info": {
      "name": "python"
    }
  },
  "cells": [
    {
      "cell_type": "markdown",
      "source": [
        "# Python Project\n",
        "# Number Guessing"
      ],
      "metadata": {
        "id": "xZn49-axKSJS"
      }
    },
    {
      "cell_type": "code",
      "execution_count": null,
      "metadata": {
        "colab": {
          "base_uri": "https://localhost:8080/"
        },
        "id": "vQ7NEIrEJ6tS",
        "outputId": "b80714af-3dae-4a9a-a83f-26a6fd0ecbdb"
      },
      "outputs": [
        {
          "output_type": "stream",
          "name": "stdout",
          "text": [
            "Welcome to Number Guess\n",
            "Please input a number between 0 and 100:54\n",
            "This is lower than actual number. Please try again.\n",
            "Please input a number between 0 and 100:55\n",
            "This is lower than actual number. Please try again.\n",
            "Please input a number between 0 and 100:100\n",
            "This is higher than actual number. Please try again.\n",
            "Please input a number between 0 and 100:75\n",
            "This is lower than actual number. Please try again.\n",
            "Please input a number between 0 and 100:76\n",
            "This is lower than actual number. Please try again.\n",
            "Please input a number between 0 and 100:77\n",
            "This is the correct number with total attempts\n",
            "Attempts = 6 . \n",
            "Thank you for playing Number Guess . See you again . \n"
          ]
        }
      ],
      "source": [
        "\"\"\" Number Guessing Game --------------------------------------------------------------------------------------------------------------------------------------- \"\"\"\n",
        "import random\n",
        "number=random.randrange(0,100)\n",
        "guessCheck=\"wrong\"\n",
        "print(\"Welcome to Number Guess\")\n",
        "attempts = 0\n",
        "while guessCheck==\"wrong\":\n",
        "  response=int(input(\"Please input a number between 0 and 100:\"))\n",
        "  try:\n",
        "    val=int(response)\n",
        "  except ValueError:\n",
        "    print(\"This is not a valid integer. Please try again\")\n",
        "    continue\n",
        "  val=int (response)\n",
        "  if val<number:\n",
        "    print(\"This is lower than actual number. Please try again.\")\n",
        "    attempts=attempts +1\n",
        "  elif val>number:\n",
        "    print(\"This is higher than actual number. Please try again.\")\n",
        "    attempts=attempts +1\n",
        "  else:\n",
        "    print(\"This is the correct number with total attempts\")\n",
        "    guessCheck=\"correct\"\n",
        "    attempts=attempts +1\n",
        "    print(\"Attempts = {} . \".format(attempts))\n",
        "print(\"Thank you for playing Number Guess . See you again . \")\n"
      ]
    }
  ]
}